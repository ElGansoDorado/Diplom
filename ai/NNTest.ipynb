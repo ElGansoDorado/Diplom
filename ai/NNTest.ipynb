{
 "cells": [
  {
   "cell_type": "code",
   "execution_count": 32,
   "metadata": {},
   "outputs": [
    {
     "name": "stdout",
     "output_type": "stream",
     "text": [
      "['age', 'BMI', 'gender', '1test Ex', '1test In', 'ComorbCCC', 'ComorbL', 'CD\\\\Ozhir', 'ComorbAll', 'L 109', 'LF', 'ROX', 'SpO2', 'SpO2\\\\FiO', 'chD', 'measurementday', 'dayshome', 'Result', '>7 or <7', 'daystoresult']\n"
     ]
    }
   ],
   "source": [
    "import pandas as pd\n",
    "\n",
    "df_data = pd.read_csv(\"data.csv\")\n",
    "print(df_data.columns.to_list())\n",
    "#df_data"
   ]
  },
  {
   "cell_type": "code",
   "execution_count": 33,
   "metadata": {},
   "outputs": [],
   "source": [
    "import torch\n",
    "\n",
    "feature_columns = df_data.drop(\n",
    "    columns=['1test Ex', '1test In',\n",
    "             'ComorbCCC', 'ComorbL', 'SpO2',\n",
    "             'SpO2\\\\FiO', 'chD', 'measurementday',\n",
    "             'dayshome', 'Result',\n",
    "             '>7 or <7', 'daystoresult'])\n",
    "feature_tensors = torch.tensor(feature_columns.values, dtype=torch.float64)\n",
    "seven_tensor = torch.tensor(df_data['>7 or <7'].values, dtype=torch.float64)"
   ]
  },
  {
   "cell_type": "code",
   "execution_count": 34,
   "metadata": {},
   "outputs": [
    {
     "data": {
      "text/plain": [
       "device(type='cpu')"
      ]
     },
     "execution_count": 34,
     "metadata": {},
     "output_type": "execute_result"
    }
   ],
   "source": [
    "device = torch.device(\"cuda\") if torch.cuda.is_available() else torch.device(\"cpu\")\n",
    "\n",
    "device = torch.device(\"cpu\")\n",
    "\n",
    "features = feature_tensors.to(device=device)\n",
    "labels7 = seven_tensor.to(device=device)\n",
    "\n",
    "device"
   ]
  },
  {
   "cell_type": "code",
   "execution_count": 35,
   "metadata": {},
   "outputs": [],
   "source": [
    "from torch.utils.data import DataLoader\n",
    "import torch.nn as nn\n",
    "from NN import CustomDataset\n",
    "\n",
    "dataset_7 = CustomDataset(\n",
    "    feature_tensors=features,\n",
    "    result_tensor=labels7)\n",
    "\n",
    "batch_size = 8\n",
    "\n",
    "dataloader7 = DataLoader(dataset_7, batch_size=batch_size, shuffle=True)"
   ]
  },
  {
   "cell_type": "code",
   "execution_count": 36,
   "metadata": {},
   "outputs": [],
   "source": [
    "class NN(nn.Module):\n",
    "    def __init__(self, in_size, hidden_size, out_size) -> None:\n",
    "        super(NN, self).__init__()\n",
    "        self.hidd = nn.Linear(in_features=in_size, out_features=hidden_size, dtype=torch.float64)\n",
    "        self.hidd_f = nn.ReLU()\n",
    "        self.out = nn.Linear(in_features=hidden_size, out_features=out_size, dtype=torch.float64)\n",
    "        self.out_f = nn.Sigmoid()\n",
    "\n",
    "    def forward(self, x):\n",
    "        x = self.hidd(x)\n",
    "        x = self.hidd_f(x)\n",
    "        x = self.out(x)\n",
    "        return self.out_f(x)\n",
    "    \n",
    "    def get_hidden(self, x):\n",
    "        with torch.no_grad():\n",
    "            x = self.hidd(x)\n",
    "            return self.hidd_f(x)\n"
   ]
  },
  {
   "cell_type": "code",
   "execution_count": 37,
   "metadata": {},
   "outputs": [],
   "source": [
    "class smallNN(nn.Module):\n",
    "    def __init__(self, in_size, out_size) -> None:\n",
    "        super(smallNN, self).__init__()\n",
    "        self.out = nn.Linear(in_features=in_size, out_features=out_size, dtype=torch.float64)\n",
    "        self.out_f = nn.Sigmoid()\n",
    "\n",
    "    def forward(self, x):\n",
    "        x = self.out(x)\n",
    "        return self.out_f(x)"
   ]
  },
  {
   "cell_type": "code",
   "execution_count": 38,
   "metadata": {},
   "outputs": [],
   "source": [
    "in_size = features.shape[1]\n",
    "hidd_size = 32\n",
    "out_size = 1\n",
    "\n",
    "lr = 0.01\n",
    "num_e = 100"
   ]
  },
  {
   "cell_type": "code",
   "execution_count": 39,
   "metadata": {},
   "outputs": [],
   "source": [
    "import torch.optim as optim\n",
    "\n",
    "model = NN(in_size, hidd_size, out_size)\n",
    "model.to(device=device)\n",
    "optimizer = optim.SGD(model.parameters(), lr, 0.1)\n",
    "criterion = nn.MSELoss()"
   ]
  },
  {
   "cell_type": "code",
   "execution_count": 55,
   "metadata": {},
   "outputs": [
    {
     "name": "stdout",
     "output_type": "stream",
     "text": [
      "Epoch [1/100], Loss: 0.1830\n",
      "Epoch [11/100], Loss: 0.1856\n",
      "Epoch [21/100], Loss: 0.1821\n",
      "Epoch [31/100], Loss: 0.1799\n",
      "Epoch [41/100], Loss: 0.1820\n",
      "Epoch [51/100], Loss: 0.1831\n",
      "Epoch [61/100], Loss: 0.1815\n",
      "Epoch [71/100], Loss: 0.1825\n",
      "Epoch [81/100], Loss: 0.1829\n",
      "Epoch [91/100], Loss: 0.1821\n",
      "Epoch [100/100], Loss: 0.1774\n"
     ]
    }
   ],
   "source": [
    "for epoch in range(num_e):\n",
    "    total_loss = 0.0\n",
    "    for batch_x, batch_y in dataloader7:\n",
    "        # Forward pass\n",
    "        outputs = model(batch_x)\n",
    "        loss = criterion(outputs, batch_y.unsqueeze(1))  # Reshape batch_y if needed\n",
    "\n",
    "        # Backward pass and optimization\n",
    "        optimizer.zero_grad()\n",
    "        loss.backward()\n",
    "        optimizer.step()\n",
    "\n",
    "        total_loss += loss.item()\n",
    "\n",
    "    # Print the average loss for this epoch\n",
    "    average_loss = total_loss / len(dataloader7)\n",
    "    if epoch % 10 == 0 or epoch == num_e - 1:\n",
    "        print(f'Epoch [{epoch + 1}/{num_e}], Loss: {average_loss:.4f}')"
   ]
  },
  {
   "cell_type": "code",
   "execution_count": 56,
   "metadata": {},
   "outputs": [
    {
     "name": "stdout",
     "output_type": "stream",
     "text": [
      "AUC:  0.8141981196348276\n"
     ]
    }
   ],
   "source": [
    "from sklearn.metrics import roc_curve, roc_auc_score\n",
    "import matplotlib.pyplot as plt\n",
    "\n",
    "predict = model(features)\n",
    "\n",
    "y_true = labels7.to(\"cpu\").detach().numpy()\n",
    "y_scores = predict.to(\"cpu\").detach().numpy()\n",
    "\n",
    "fpr, tpr, thresholds = roc_curve(y_true, y_scores)\n",
    "auc = roc_auc_score(y_true, y_scores)\n",
    "\n",
    "print('AUC: ', auc)"
   ]
  },
  {
   "cell_type": "code",
   "execution_count": 57,
   "metadata": {},
   "outputs": [
    {
     "data": {
      "image/png": "[encoded data removed]",
      "text/plain": [
       "<Figure size 640x480 with 1 Axes>"
      ]
     },
     "metadata": {},
     "output_type": "display_data"
    }
   ],
   "source": [
    "plt.plot(fpr, tpr)\n",
    "plt.title('ROC curve')\n",
    "plt.xlabel('False Positive Rate')\n",
    "plt.ylabel('True Positive Rate')\n",
    "plt.show()"
   ]
  },
  {
   "cell_type": "code",
   "execution_count": 58,
   "metadata": {},
   "outputs": [],
   "source": [
    "rows_with_0 = df_data[df_data['Result'] != 'H']\n",
    "\n",
    "rows_with_1 = df_data[df_data['Result'] == 'H'].sample(len(rows_with_0))\n",
    "\n",
    "small_df = pd.concat([rows_with_1, rows_with_0])\n",
    "\n",
    "small_df.to_csv(\"T.csv\")"
   ]
  },
  {
   "cell_type": "code",
   "execution_count": 59,
   "metadata": {},
   "outputs": [],
   "source": [
    "feature_col_small = small_df.drop(\n",
    "    columns=['1test Ex', '1test In',\n",
    "             'ComorbCCC', 'ComorbL', 'SpO2',\n",
    "             'SpO2\\\\FiO', 'chD', 'measurementday',\n",
    "             'dayshome', 'Result',\n",
    "             '>7 or <7', 'daystoresult'])\n",
    "\n",
    "feature_tensors = torch.tensor(feature_col_small.values, dtype=torch.float64)\n",
    "result_tensor = torch.tensor([1 if res == 'H' else 0 for res in small_df[\"Result\"]], dtype=torch.float64)"
   ]
  },
  {
   "cell_type": "code",
   "execution_count": 60,
   "metadata": {},
   "outputs": [],
   "source": [
    "features = feature_tensors.to(device=device)\n",
    "labelsR = result_tensor.to(device=device)"
   ]
  },
  {
   "cell_type": "code",
   "execution_count": 61,
   "metadata": {},
   "outputs": [],
   "source": [
    "small_model = smallNN(in_size=hidd_size, out_size=out_size)\n",
    "small_model.to(device=device)\n",
    "optimizer = optim.SGD(small_model.parameters(), lr, 0.1)"
   ]
  },
  {
   "cell_type": "code",
   "execution_count": 62,
   "metadata": {},
   "outputs": [],
   "source": [
    "R_dataset = CustomDataset(\n",
    "    feature_tensors=features,\n",
    "    result_tensor=labelsR)\n",
    "\n",
    "batch_size = 8\n",
    "\n",
    "Rdataloader = DataLoader(R_dataset, batch_size=batch_size, shuffle=True)"
   ]
  },
  {
   "cell_type": "code",
   "execution_count": 80,
   "metadata": {},
   "outputs": [
    {
     "name": "stdout",
     "output_type": "stream",
     "text": [
      "Epoch [1/100], Loss: 0.1689\n",
      "Epoch [11/100], Loss: 0.1716\n",
      "Epoch [21/100], Loss: 0.1712\n",
      "Epoch [31/100], Loss: 0.1651\n",
      "Epoch [41/100], Loss: 0.1658\n",
      "Epoch [51/100], Loss: 0.1719\n",
      "Epoch [61/100], Loss: 0.1701\n",
      "Epoch [71/100], Loss: 0.1618\n",
      "Epoch [81/100], Loss: 0.1606\n",
      "Epoch [91/100], Loss: 0.1630\n",
      "Epoch [100/100], Loss: 0.1603\n"
     ]
    }
   ],
   "source": [
    "for epoch in range(num_e):\n",
    "    total_loss = 0.0\n",
    "    for batch_x, batch_y in Rdataloader:\n",
    "        # Forward pass\n",
    "        outputs = small_model(model.get_hidden(batch_x))\n",
    "        loss = criterion(outputs, batch_y.unsqueeze(1))  # Reshape batch_y if needed\n",
    "\n",
    "        # Backward pass and optimization\n",
    "        optimizer.zero_grad()\n",
    "        loss.backward()\n",
    "        optimizer.step()\n",
    "\n",
    "        total_loss += loss.item()\n",
    "\n",
    "    # Print the average loss for this epoch\n",
    "    average_loss = total_loss / len(Rdataloader)\n",
    "    if epoch % 10 == 0 or epoch == num_e - 1:\n",
    "        print(f'Epoch [{epoch + 1}/{num_e}], Loss: {average_loss:.4f}')"
   ]
  },
  {
   "cell_type": "code",
   "execution_count": 81,
   "metadata": {},
   "outputs": [
    {
     "name": "stdout",
     "output_type": "stream",
     "text": [
      "AUC:  0.8306172839506172\n"
     ]
    }
   ],
   "source": [
    "predict = small_model(model.get_hidden(features))\n",
    "\n",
    "y_true = labelsR.to(\"cpu\").detach().numpy()\n",
    "y_scores = predict.to(\"cpu\").detach().numpy()\n",
    "\n",
    "fpr, tpr, thresholds = roc_curve(y_true, y_scores)\n",
    "auc = roc_auc_score(y_true, y_scores)\n",
    "\n",
    "print('AUC: ', auc)"
   ]
  },
  {
   "cell_type": "code",
   "execution_count": 82,
   "metadata": {},
   "outputs": [
    {
     "data": {
      "image/png": "[encoded data removed]",
      "text/plain": [
       "<Figure size 640x480 with 1 Axes>"
      ]
     },
     "metadata": {},
     "output_type": "display_data"
    }
   ],
   "source": [
    "plt.plot(fpr, tpr)\n",
    "plt.title('ROC curve')\n",
    "plt.xlabel('False Positive Rate')\n",
    "plt.ylabel('True Positive Rate')\n",
    "plt.show()"
   ]
  }
 ],
 "metadata": {
  "kernelspec": {
   "display_name": ".venv",
   "language": "python",
   "name": "python3"
  },
  "language_info": {
   "codemirror_mode": {
    "name": "ipython",
    "version": 3
   },
   "file_extension": ".py",
   "mimetype": "text/x-python",
   "name": "python",
   "nbconvert_exporter": "python",
   "pygments_lexer": "ipython3",
   "version": "3.10.4"
  }
 },
 "nbformat": 4,
 "nbformat_minor": 2
}
