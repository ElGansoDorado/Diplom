{
 "cells": [
  {
   "cell_type": "markdown",
   "metadata": {},
   "source": [
    "## File to prepare Data"
   ]
  },
  {
   "cell_type": "code",
   "execution_count": 1,
   "metadata": {},
   "outputs": [],
   "source": [
    "#imports\n",
    "import pandas as pd"
   ]
  },
  {
   "cell_type": "markdown",
   "metadata": {},
   "source": [
    "### скачать файл из тг"
   ]
  },
  {
   "cell_type": "code",
   "execution_count": 2,
   "metadata": {},
   "outputs": [
    {
     "name": "stdout",
     "output_type": "stream",
     "text": [
      "     case №  age        BMI  gender  1test Ex  1test In  ComorbCCC  ComorbL  \\\n",
      "0         0   64  30.468750       0       103        61          1        0   \n",
      "1         1   52  27.885187       0       110        58          1        0   \n",
      "2         9   66  14.659928       0        79        14          1        0   \n",
      "3        11   54  42.292640       1        69        19          0        0   \n",
      "4        16   67  40.700000       0        58        32          1        0   \n",
      "..      ...  ...        ...     ...       ...       ...        ...      ...   \n",
      "379     442   81  20.775623       0        43        28          1        0   \n",
      "380     443   66  29.996713       0        42        26          1        0   \n",
      "381     444   57  26.397977       0        52        34          1        0   \n",
      "382     445   63  25.109569       0        42        30          1        1   \n",
      "383     446   67  26.297578       0        95        52          0        0   \n",
      "\n",
      "     CD\\Ozhir  ComorbAll  ...  chD  measurementday  dayshome  Result  \\\n",
      "0           0          1  ...   24               7         5       D   \n",
      "1           0          1  ...   18               2         7       H   \n",
      "2           0          1  ...   22               9         6       H   \n",
      "3           1          1  ...   26               6         7       H   \n",
      "4           1          1  ...   26               1         7       D   \n",
      "..        ...        ...  ...  ...             ...       ...     ...   \n",
      "379         0          1  ...   22               1         8       H   \n",
      "380         0          1  ...   18               1         5       H   \n",
      "381         1          1  ...   18               1         3       H   \n",
      "382         1          1  ...   20               1         1       H   \n",
      "383         0          0  ...   18               1         7       H   \n",
      "\n",
      "     >7 or <7  Result.1  daystoresult  Unnamed: 22 Unnamed: 23  \\\n",
      "0           1         D            13          NaN         NaN   \n",
      "1           0         H             6          NaN         NaN   \n",
      "2           1         H            14          NaN         NaN   \n",
      "3           1         H            14          NaN         NaN   \n",
      "4           1         D            11          NaN         NaN   \n",
      "..        ...       ...           ...          ...         ...   \n",
      "379         1         H            11          NaN         NaN   \n",
      "380         1         H             9          NaN         NaN   \n",
      "381         0         H             5          NaN         NaN   \n",
      "382         1         H            12          NaN         NaN   \n",
      "383         0         H             5          NaN         NaN   \n",
      "\n",
      "                           Unnamed: 24  \n",
      "0                                  NaN  \n",
      "1                                  NaN  \n",
      "2                       входные данные  \n",
      "3    получено из других входных данных  \n",
      "4                      выходные данные  \n",
      "..                                 ...  \n",
      "379                                NaN  \n",
      "380                                NaN  \n",
      "381                                NaN  \n",
      "382                                NaN  \n",
      "383                                NaN  \n",
      "\n",
      "[384 rows x 25 columns]\n"
     ]
    }
   ],
   "source": [
    "data = pd.read_excel(\"../static/Book1.xls\")\n",
    "print(data)"
   ]
  },
  {
   "cell_type": "code",
   "execution_count": 3,
   "metadata": {},
   "outputs": [
    {
     "name": "stdout",
     "output_type": "stream",
     "text": [
      "     age        BMI  gender  1test Ex  1test In  ComorbCCC  ComorbL  CD\\Ozhir  \\\n",
      "0     64  30.468750       0       103        61          1        0         0   \n",
      "1     52  27.885187       0       110        58          1        0         0   \n",
      "2     66  14.659928       0        79        14          1        0         0   \n",
      "3     54  42.292640       1        69        19          0        0         1   \n",
      "4     67  40.700000       0        58        32          1        0         1   \n",
      "..   ...        ...     ...       ...       ...        ...      ...       ...   \n",
      "379   81  20.775623       0        43        28          1        0         0   \n",
      "380   66  29.996713       0        42        26          1        0         0   \n",
      "381   57  26.397977       0        52        34          1        0         1   \n",
      "382   63  25.109569       0        42        30          1        1         1   \n",
      "383   67  26.297578       0        95        52          0        0         0   \n",
      "\n",
      "     ComorbAll  L 109     LF        ROX  SpO2    SpO2\\FiO  chD  \\\n",
      "0            1   8.70  12.00   6.542700    86  157.024793   24   \n",
      "1            1   4.05  29.00  26.190476    98  471.428571   18   \n",
      "2            1   6.10   1.50   4.528337    93   99.623417   22   \n",
      "3            1   5.30   0.12   3.792168    90   98.596371   26   \n",
      "4            1   5.40  11.00   3.346154    83   87.000000   26   \n",
      "..         ...    ...    ...        ...   ...         ...  ...   \n",
      "379          1   3.50   1.10  20.562771    97  452.380952   22   \n",
      "380          1   7.05   1.00  25.661376    97  461.904762   18   \n",
      "381          1   5.80   0.30  25.925926    97  466.666667   18   \n",
      "382          1   8.70   2.90  14.341463    94  286.829268   20   \n",
      "383          0  12.90   0.09  25.661376    97  461.904762   18   \n",
      "\n",
      "     measurementday  dayshome Result  >7 or <7  daystoresult  \n",
      "0                 7         5      D         1            13  \n",
      "1                 2         7      H         0             6  \n",
      "2                 9         6      H         1            14  \n",
      "3                 6         7      H         1            14  \n",
      "4                 1         7      D         1            11  \n",
      "..              ...       ...    ...       ...           ...  \n",
      "379               1         8      H         1            11  \n",
      "380               1         5      H         1             9  \n",
      "381               1         3      H         0             5  \n",
      "382               1         1      H         1            12  \n",
      "383               1         7      H         0             5  \n",
      "\n",
      "[384 rows x 20 columns]\n"
     ]
    }
   ],
   "source": [
    "#delete some columns\n",
    "data.drop('case №', axis=1, inplace=True)\n",
    "data.drop('Result.1', axis=1, inplace=True)\n",
    "data.drop('Unnamed: 22', axis=1, inplace=True)\n",
    "data.drop('Unnamed: 23', axis=1, inplace=True)\n",
    "data.drop('Unnamed: 24', axis=1, inplace=True)\n",
    "print(data)"
   ]
  },
  {
   "cell_type": "markdown",
   "metadata": {},
   "source": [
    "covid\n",
    "|Параметр|Значение|Использование|\n",
    "|-|-|-|\n",
    "|case №|номер пациента в журнале|-|\n",
    "|age|возраст|+|\n",
    "|BMI|Индекс массы тела|+|\n",
    "|gender|пол|0ж-1м|\n",
    "|1test Ex|Экстубация|+|\n",
    "|1test In|Интубация|+|\n",
    "|ComorbCCC|Сердечн Сосуд заболеван|0-1|\n",
    "|ComorbL|Заболев Лёгких|0-1|\n",
    "|CD\\Ozhir|ожирение|0-1|\n",
    "|ComorbAll|ССС or L|0-1|\n",
    "|L 109|лимфоциты|+|\n",
    "|LF|другие лимфоциты|+|\n",
    "|ROX|?|-|\n",
    "|SpO2|насыщеность крови кислородом|+|\n",
    "|SpO2\\FiO|соотношения насыщения кислородом к фракции вдыхаемого кислорода (SpO (2) / FiO (2))|+|\n",
    "|chD|чистота дыхания|+|\n",
    "|measurementday|день первых измерений(каких-то)|-|\n",
    "|dayshome|дни нахождения дома|+|\n",
    "|Result|Результат(D - смэрт, H - здоров, R - реаним)|0-1-0|\n",
    "|>7 or <7|> или < 7 дней в палате|0-1|\n",
    "|daystoresult|точное время дней|+|"
   ]
  },
  {
   "cell_type": "code",
   "execution_count": 4,
   "metadata": {},
   "outputs": [],
   "source": [
    "#save data\n",
    "data.to_csv('data.csv', index=False)"
   ]
  }
 ],
 "metadata": {
  "kernelspec": {
   "display_name": ".venv",
   "language": "python",
   "name": "python3"
  },
  "language_info": {
   "codemirror_mode": {
    "name": "ipython",
    "version": 3
   },
   "file_extension": ".py",
   "mimetype": "text/x-python",
   "name": "python",
   "nbconvert_exporter": "python",
   "pygments_lexer": "ipython3",
   "version": "3.10.4"
  },
  "orig_nbformat": 4
 },
 "nbformat": 4,
 "nbformat_minor": 2
}
