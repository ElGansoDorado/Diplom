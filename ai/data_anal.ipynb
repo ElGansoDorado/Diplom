{
 "cells": [
  {
   "cell_type": "code",
   "execution_count": null,
   "metadata": {},
   "outputs": [],
   "source": [
    "import pandas as pd\n",
    "\n",
    "#open data\n",
    "\n",
    "data = pd.read_csv(\"data.csv\")\n",
    "data"
   ]
  },
  {
   "cell_type": "code",
   "execution_count": null,
   "metadata": {},
   "outputs": [],
   "source": [
    "#get columns name\n",
    "\n",
    "params = data.columns.to_list()\n",
    "\n",
    "params"
   ]
  },
  {
   "cell_type": "code",
   "execution_count": null,
   "metadata": {},
   "outputs": [],
   "source": [
    "#remade the Result column\n",
    "\n",
    "def convert_values(val):\n",
    "    if val == 'H':\n",
    "        return 1\n",
    "    else:\n",
    "        return 0\n",
    "\n",
    "data = data\n",
    "\n",
    "data[\"Result\"] = data[\"Result\"].apply(convert_values)\n",
    "\n",
    "data"
   ]
  },
  {
   "cell_type": "code",
   "execution_count": null,
   "metadata": {},
   "outputs": [],
   "source": [
    "params.remove(\"gender\")\n",
    "params.remove(\"ComorbCCC\")\n",
    "params.remove(\"ComorbL\")\n",
    "params.remove(\"ComorbAll\")\n",
    "params.remove(\"CD\\Ozhir\")\n",
    "params.remove(\"daystoresult\")\n",
    "params.remove(\">7 or <7\")\n",
    "params.remove(\"Result\")\n",
    "len(params)"
   ]
  },
  {
   "cell_type": "code",
   "execution_count": null,
   "metadata": {},
   "outputs": [],
   "source": [
    "import matplotlib.pyplot as plt\n",
    "\n",
    "figure, axis = plt.subplots(len(params), 2, figsize=(10, len(params)/0.2))\n",
    "\n",
    "for x in range(0, len(params)):\n",
    "    axis[x, 0].scatter(data[params[x]], data[\"Result\"])\n",
    "    axis[x, 0].set_title(f\"{params[x]}-Result\")\n",
    "    axis[x, 1].scatter(data[params[x]], data[\">7 or <7\"])\n",
    "    axis[x, 1].set_title(f\"{params[x]}-><7\")\n",
    "\n",
    "plt.show()"
   ]
  }
 ],
 "metadata": {
  "kernelspec": {
   "display_name": ".venv",
   "language": "python",
   "name": "python3"
  },
  "language_info": {
   "codemirror_mode": {
    "name": "ipython",
    "version": 3
   },
   "file_extension": ".py",
   "mimetype": "text/x-python",
   "name": "python",
   "nbconvert_exporter": "python",
   "pygments_lexer": "ipython3",
   "version": "3.10.4"
  },
  "orig_nbformat": 4
 },
 "nbformat": 4,
 "nbformat_minor": 2
}
